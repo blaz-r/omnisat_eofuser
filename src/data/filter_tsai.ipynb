{
 "cells": [
  {
   "cell_type": "code",
   "id": "initial_id",
   "metadata": {
    "collapsed": true,
    "ExecuteTime": {
     "end_time": "2025-06-11T10:53:42.271815Z",
     "start_time": "2025-06-11T10:53:40.601248Z"
    }
   },
   "source": [
    "from pathlib import Path\n",
    "\n",
    "root_path = Path(r\"D:\\rs_data\\eofuser\\TreeSat\")\n",
    "\n",
    "for split in [\"train\", \"test\", \"val\"]:\n",
    "    filtered = []\n",
    "    all = []\n",
    "    data_path = root_path / (split + \"_filenames.lst\")\n",
    "    with open(data_path, \"r\") as file:\n",
    "        for l in [line.strip() for line in file.readlines()]:\n",
    "            all.append(l)\n",
    "            if (root_path / \"s2/60m\" / l).exists():\n",
    "                filtered.append(l + \"\\n\")\n",
    "    print(len(filtered), len(all))   \n",
    "    with open(root_path / (split + \"_filenames_mono.lst\"), \"w\") as file:\n",
    "        file.writelines(filtered)"
   ],
   "outputs": [
    {
     "name": "stdout",
     "output_type": "stream",
     "text": [
      "30178 38520\n",
      "3936 5044\n",
      "5349 6810\n"
     ]
    }
   ],
   "execution_count": 8
  }
 ],
 "metadata": {
  "kernelspec": {
   "display_name": "Python 3",
   "language": "python",
   "name": "python3"
  },
  "language_info": {
   "codemirror_mode": {
    "name": "ipython",
    "version": 2
   },
   "file_extension": ".py",
   "mimetype": "text/x-python",
   "name": "python",
   "nbconvert_exporter": "python",
   "pygments_lexer": "ipython2",
   "version": "2.7.6"
  }
 },
 "nbformat": 4,
 "nbformat_minor": 5
}
